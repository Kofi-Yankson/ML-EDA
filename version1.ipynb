{
 "cells": [
  {
   "cell_type": "code",
   "execution_count": 60,
   "id": "4571376a-1f02-4e05-b6ac-0c89b7aded89",
   "metadata": {},
   "outputs": [],
   "source": [
    "import numpy as np\n",
    "import pandas as pd\n",
    "import matplotlib.pyplot as plt"
   ]
  },
  {
   "cell_type": "code",
   "execution_count": 61,
   "id": "983f4c37-4833-42ae-9ba0-e1b86129562c",
   "metadata": {},
   "outputs": [],
   "source": [
    "df = pd.read_csv(\"genz.csv\")"
   ]
  },
  {
   "cell_type": "code",
   "execution_count": 62,
   "id": "5fa0bfed-ffc6-4048-8136-9f463b07b3a0",
   "metadata": {},
   "outputs": [
    {
     "data": {
      "text/html": [
       "<div>\n",
       "<style scoped>\n",
       "    .dataframe tbody tr th:only-of-type {\n",
       "        vertical-align: middle;\n",
       "    }\n",
       "\n",
       "    .dataframe tbody tr th {\n",
       "        vertical-align: top;\n",
       "    }\n",
       "\n",
       "    .dataframe thead th {\n",
       "        text-align: right;\n",
       "    }\n",
       "</style>\n",
       "<table border=\"1\" class=\"dataframe\">\n",
       "  <thead>\n",
       "    <tr style=\"text-align: right;\">\n",
       "      <th></th>\n",
       "      <th>User_ID</th>\n",
       "      <th>Age</th>\n",
       "      <th>Gender</th>\n",
       "      <th>Location</th>\n",
       "      <th>Education</th>\n",
       "      <th>Occupation</th>\n",
       "      <th>Primary_App</th>\n",
       "      <th>Secondary_Apps</th>\n",
       "      <th>Usage_Frequency</th>\n",
       "      <th>Daily_Usage_Time</th>\n",
       "      <th>Reason_for_Using</th>\n",
       "      <th>Satisfaction</th>\n",
       "      <th>Challenges</th>\n",
       "      <th>Desired_Features</th>\n",
       "      <th>Preferred_Communication</th>\n",
       "      <th>Partner_Priorities</th>\n",
       "    </tr>\n",
       "  </thead>\n",
       "  <tbody>\n",
       "    <tr>\n",
       "      <th>0</th>\n",
       "      <td>1</td>\n",
       "      <td>20</td>\n",
       "      <td>Non-binary</td>\n",
       "      <td>Bangalore</td>\n",
       "      <td>Undergraduate</td>\n",
       "      <td>Freelancer</td>\n",
       "      <td>Hinge</td>\n",
       "      <td>Hinge</td>\n",
       "      <td>Monthly</td>\n",
       "      <td>1 hour</td>\n",
       "      <td>Finding a Partner</td>\n",
       "      <td>4</td>\n",
       "      <td>Safety Concerns</td>\n",
       "      <td>Audio Calls</td>\n",
       "      <td>Video Calls</td>\n",
       "      <td>Values &gt; Personality &gt; Appearance</td>\n",
       "    </tr>\n",
       "    <tr>\n",
       "      <th>1</th>\n",
       "      <td>2</td>\n",
       "      <td>24</td>\n",
       "      <td>Female</td>\n",
       "      <td>Delhi</td>\n",
       "      <td>Undergraduate</td>\n",
       "      <td>Part-time Job</td>\n",
       "      <td>Hinge</td>\n",
       "      <td>OkCupid</td>\n",
       "      <td>Weekly</td>\n",
       "      <td>30 minutes</td>\n",
       "      <td>Casual Dating</td>\n",
       "      <td>5</td>\n",
       "      <td>Time-Wasting</td>\n",
       "      <td>Video Calls</td>\n",
       "      <td>Text</td>\n",
       "      <td>Values &gt; Personality &gt; Appearance</td>\n",
       "    </tr>\n",
       "    <tr>\n",
       "      <th>2</th>\n",
       "      <td>3</td>\n",
       "      <td>24</td>\n",
       "      <td>Non-binary</td>\n",
       "      <td>Kolkata</td>\n",
       "      <td>Undergraduate</td>\n",
       "      <td>Intern</td>\n",
       "      <td>NaN</td>\n",
       "      <td>NaN</td>\n",
       "      <td>Weekly</td>\n",
       "      <td>2 hours</td>\n",
       "      <td>Casual Dating</td>\n",
       "      <td>4</td>\n",
       "      <td>Safety Concerns</td>\n",
       "      <td>Detailed Profiles</td>\n",
       "      <td>Text</td>\n",
       "      <td>Values &gt; Personality &gt; Appearance</td>\n",
       "    </tr>\n",
       "    <tr>\n",
       "      <th>3</th>\n",
       "      <td>4</td>\n",
       "      <td>22</td>\n",
       "      <td>Non-binary</td>\n",
       "      <td>Delhi</td>\n",
       "      <td>Graduate</td>\n",
       "      <td>Full-time Job</td>\n",
       "      <td>NaN</td>\n",
       "      <td>OkCupid</td>\n",
       "      <td>Daily</td>\n",
       "      <td>30 minutes</td>\n",
       "      <td>Casual Fun</td>\n",
       "      <td>3</td>\n",
       "      <td>NaN</td>\n",
       "      <td>AI Recommendations</td>\n",
       "      <td>Voice Notes</td>\n",
       "      <td>Personality &gt; Interests &gt; Values</td>\n",
       "    </tr>\n",
       "    <tr>\n",
       "      <th>4</th>\n",
       "      <td>5</td>\n",
       "      <td>18</td>\n",
       "      <td>Male</td>\n",
       "      <td>Delhi</td>\n",
       "      <td>Graduate</td>\n",
       "      <td>Intern</td>\n",
       "      <td>OkCupid</td>\n",
       "      <td>OkCupid</td>\n",
       "      <td>Weekly</td>\n",
       "      <td>2 hours</td>\n",
       "      <td>Casual Fun</td>\n",
       "      <td>4</td>\n",
       "      <td>Safety Concerns</td>\n",
       "      <td>Video Calls</td>\n",
       "      <td>Text</td>\n",
       "      <td>Appearance &gt; Interests &gt; Personality</td>\n",
       "    </tr>\n",
       "  </tbody>\n",
       "</table>\n",
       "</div>"
      ],
      "text/plain": [
       "   User_ID  Age      Gender   Location      Education     Occupation  \\\n",
       "0        1   20  Non-binary  Bangalore  Undergraduate     Freelancer   \n",
       "1        2   24      Female      Delhi  Undergraduate  Part-time Job   \n",
       "2        3   24  Non-binary    Kolkata  Undergraduate         Intern   \n",
       "3        4   22  Non-binary      Delhi       Graduate  Full-time Job   \n",
       "4        5   18        Male      Delhi       Graduate         Intern   \n",
       "\n",
       "  Primary_App Secondary_Apps Usage_Frequency Daily_Usage_Time  \\\n",
       "0       Hinge          Hinge         Monthly           1 hour   \n",
       "1       Hinge        OkCupid          Weekly       30 minutes   \n",
       "2         NaN            NaN          Weekly          2 hours   \n",
       "3         NaN        OkCupid           Daily       30 minutes   \n",
       "4     OkCupid        OkCupid          Weekly          2 hours   \n",
       "\n",
       "    Reason_for_Using  Satisfaction       Challenges    Desired_Features  \\\n",
       "0  Finding a Partner             4  Safety Concerns         Audio Calls   \n",
       "1      Casual Dating             5     Time-Wasting         Video Calls   \n",
       "2      Casual Dating             4  Safety Concerns   Detailed Profiles   \n",
       "3         Casual Fun             3              NaN  AI Recommendations   \n",
       "4         Casual Fun             4  Safety Concerns         Video Calls   \n",
       "\n",
       "  Preferred_Communication                    Partner_Priorities  \n",
       "0             Video Calls     Values > Personality > Appearance  \n",
       "1                    Text     Values > Personality > Appearance  \n",
       "2                    Text     Values > Personality > Appearance  \n",
       "3             Voice Notes      Personality > Interests > Values  \n",
       "4                    Text  Appearance > Interests > Personality  "
      ]
     },
     "execution_count": 62,
     "metadata": {},
     "output_type": "execute_result"
    }
   ],
   "source": [
    "df.head()  # Shows first 5 rows\n"
   ]
  },
  {
   "cell_type": "code",
   "execution_count": 63,
   "id": "570a2910-52a6-4015-8737-4a030c167661",
   "metadata": {},
   "outputs": [
    {
     "name": "stdout",
     "output_type": "stream",
     "text": [
      "<class 'pandas.core.frame.DataFrame'>\n",
      "RangeIndex: 500 entries, 0 to 499\n",
      "Data columns (total 16 columns):\n",
      " #   Column                   Non-Null Count  Dtype \n",
      "---  ------                   --------------  ----- \n",
      " 0   User_ID                  500 non-null    int64 \n",
      " 1   Age                      500 non-null    int64 \n",
      " 2   Gender                   500 non-null    object\n",
      " 3   Location                 500 non-null    object\n",
      " 4   Education                500 non-null    object\n",
      " 5   Occupation               500 non-null    object\n",
      " 6   Primary_App              393 non-null    object\n",
      " 7   Secondary_Apps           386 non-null    object\n",
      " 8   Usage_Frequency          500 non-null    object\n",
      " 9   Daily_Usage_Time         500 non-null    object\n",
      " 10  Reason_for_Using         500 non-null    object\n",
      " 11  Satisfaction             500 non-null    int64 \n",
      " 12  Challenges               383 non-null    object\n",
      " 13  Desired_Features         500 non-null    object\n",
      " 14  Preferred_Communication  500 non-null    object\n",
      " 15  Partner_Priorities       500 non-null    object\n",
      "dtypes: int64(3), object(13)\n",
      "memory usage: 62.6+ KB\n"
     ]
    }
   ],
   "source": [
    "df.info()"
   ]
  },
  {
   "cell_type": "code",
   "execution_count": 64,
   "id": "d91e84d1-ad1e-4deb-ad6e-5ec0a0b93e2b",
   "metadata": {},
   "outputs": [
    {
     "data": {
      "text/plain": [
       "np.int64(0)"
      ]
     },
     "execution_count": 64,
     "metadata": {},
     "output_type": "execute_result"
    }
   ],
   "source": [
    "df.duplicated().sum()\n",
    "#Number of duplicates = 0"
   ]
  },
  {
   "cell_type": "code",
   "execution_count": 65,
   "id": "4e3b5ec5-b614-4c9a-8063-a7cbd79f30f9",
   "metadata": {},
   "outputs": [
    {
     "data": {
      "text/plain": [
       "Gender\n",
       "Female        176\n",
       "Male          171\n",
       "Non-binary    153\n",
       "Name: count, dtype: int64"
      ]
     },
     "execution_count": 65,
     "metadata": {},
     "output_type": "execute_result"
    }
   ],
   "source": [
    "#checking for inconsitencies in categories\n",
    "df['Gender'].value_counts()\n",
    "\n"
   ]
  },
  {
   "cell_type": "code",
   "execution_count": 66,
   "id": "e2ff5713-8746-4bd0-9ed2-6afb37faf12a",
   "metadata": {},
   "outputs": [
    {
     "data": {
      "text/plain": [
       "Education\n",
       "Graduate         169\n",
       "Undergraduate    166\n",
       "Postgraduate     165\n",
       "Name: count, dtype: int64"
      ]
     },
     "execution_count": 66,
     "metadata": {},
     "output_type": "execute_result"
    }
   ],
   "source": [
    "df['Education'].value_counts()"
   ]
  },
  {
   "cell_type": "code",
   "execution_count": 67,
   "id": "3e5015d0-9f3f-4a07-8b34-d077d790fcae",
   "metadata": {},
   "outputs": [
    {
     "data": {
      "text/plain": [
       "Occupation\n",
       "Student          106\n",
       "Intern           105\n",
       "Freelancer       103\n",
       "Full-time Job    100\n",
       "Part-time Job     86\n",
       "Name: count, dtype: int64"
      ]
     },
     "execution_count": 67,
     "metadata": {},
     "output_type": "execute_result"
    }
   ],
   "source": [
    "df['Occupation'].value_counts()"
   ]
  },
  {
   "cell_type": "code",
   "execution_count": 68,
   "id": "6b42c636-4c41-4fcb-92bf-8abbb8867cf3",
   "metadata": {},
   "outputs": [
    {
     "data": {
      "text/plain": [
       "User_ID                      0\n",
       "Age                          0\n",
       "Gender                       0\n",
       "Location                     0\n",
       "Education                    0\n",
       "Occupation                   0\n",
       "Primary_App                107\n",
       "Secondary_Apps             114\n",
       "Usage_Frequency              0\n",
       "Daily_Usage_Time             0\n",
       "Reason_for_Using             0\n",
       "Satisfaction                 0\n",
       "Challenges                 117\n",
       "Desired_Features             0\n",
       "Preferred_Communication      0\n",
       "Partner_Priorities           0\n",
       "dtype: int64"
      ]
     },
     "execution_count": 68,
     "metadata": {},
     "output_type": "execute_result"
    }
   ],
   "source": [
    "#Checking missing values\n",
    "df.isnull().sum()\n"
   ]
  },
  {
   "cell_type": "code",
   "execution_count": null,
   "id": "7773f22f-65e9-43d2-b69e-79aa96250a23",
   "metadata": {},
   "outputs": [],
   "source": []
  },
  {
   "cell_type": "code",
   "execution_count": 69,
   "id": "b10b4eac-2c49-4d2f-a1ba-f092d2e60578",
   "metadata": {},
   "outputs": [],
   "source": [
    "# Drop rows where any of the selected columns have missing values\n",
    "df = df.dropna(subset=['Primary_App', 'Secondary_Apps', 'Challenges'])\n",
    "df.reset_index(drop=True, inplace=True)\n",
    "\n",
    "\n"
   ]
  },
  {
   "cell_type": "code",
   "execution_count": 70,
   "id": "83de07af-bb52-43ed-bcf5-dea5453f789a",
   "metadata": {},
   "outputs": [
    {
     "data": {
      "text/plain": [
       "User_ID                    0\n",
       "Age                        0\n",
       "Gender                     0\n",
       "Location                   0\n",
       "Education                  0\n",
       "Occupation                 0\n",
       "Primary_App                0\n",
       "Secondary_Apps             0\n",
       "Usage_Frequency            0\n",
       "Daily_Usage_Time           0\n",
       "Reason_for_Using           0\n",
       "Satisfaction               0\n",
       "Challenges                 0\n",
       "Desired_Features           0\n",
       "Preferred_Communication    0\n",
       "Partner_Priorities         0\n",
       "dtype: int64"
      ]
     },
     "execution_count": 70,
     "metadata": {},
     "output_type": "execute_result"
    }
   ],
   "source": [
    "#Checking if missing  values still exist\n",
    "df.isnull().sum()"
   ]
  },
  {
   "cell_type": "code",
   "execution_count": 71,
   "id": "c15cf1f4-bf19-4606-b79b-513c3679e057",
   "metadata": {},
   "outputs": [
    {
     "name": "stdout",
     "output_type": "stream",
     "text": [
      "Outliers in Age: 0 rows\n"
     ]
    }
   ],
   "source": [
    "# Checking For outliers using IQR\n",
    "\n",
    "def detect_outliers_iqr(df, column):\n",
    "    Q1 = df[column].quantile(0.25)  # 25th percentile\n",
    "    Q3 = df[column].quantile(0.75)  # 75th percentile\n",
    "    IQR = Q3 - Q1 \n",
    "    lower_bound = Q1 - 1.5 * IQR\n",
    "    upper_bound = Q3 + 1.5 * IQR\n",
    "    \n",
    "   \n",
    "    outliers = df[(df[column] < lower_bound) | (df[column] > upper_bound)]\n",
    "    print(f\"Outliers in {column}: {len(outliers)} rows\")\n",
    "    return outliers\n",
    "\n",
    "\n",
    "numeric_columns = ['Age']  \n",
    "for col in numeric_columns:\n",
    "    detect_outliers_iqr(df, col)\n"
   ]
  },
  {
   "cell_type": "code",
   "execution_count": 72,
   "id": "51863070-985f-4659-bf4b-0acbe806123d",
   "metadata": {},
   "outputs": [
    {
     "data": {
      "image/png": "[encoded data removed]",
      "text/plain": [
       "<Figure size 800x500 with 1 Axes>"
      ]
     },
     "metadata": {},
     "output_type": "display_data"
    }
   ],
   "source": [
    "df[numeric_columns].boxplot(figsize=(8, 5))\n",
    "plt.show()\n"
   ]
  },
  {
   "cell_type": "code",
   "execution_count": 73,
   "id": "af36f856-c177-400e-9ef9-9f50b1bd7989",
   "metadata": {},
   "outputs": [
    {
     "name": "stdout",
     "output_type": "stream",
     "text": [
      "Primary_App  Bumble  Hinge  OkCupid  Tinder\n",
      "Gender                                     \n",
      "Female           22     19       21      15\n",
      "Male             19     21       27      17\n",
      "Non-binary       14     25       19      20\n"
     ]
    },
    {
     "data": {
      "image/png": "[encoded data removed]",
      "text/plain": [
       "<Figure size 1000x600 with 1 Axes>"
      ]
     },
     "metadata": {},
     "output_type": "display_data"
    }
   ],
   "source": [
    "\n"
   ]
  },
  {
   "cell_type": "code",
   "execution_count": null,
   "id": "92d53cc7-4acb-446c-8335-d5f7250c923e",
   "metadata": {},
   "outputs": [],
   "source": []
  },
  {
   "cell_type": "code",
   "execution_count": 76,
   "id": "fd3e3696-6e9d-4465-9578-78369ec887c2",
   "metadata": {},
   "outputs": [
    {
     "data": {
      "text/plain": [
       "(239, 16)"
      ]
     },
     "execution_count": 76,
     "metadata": {},
     "output_type": "execute_result"
    }
   ],
   "source": [
    "df.shape"
   ]
  },
  {
   "cell_type": "code",
   "execution_count": 88,
   "id": "9d9d1e86-efcd-47a2-bf6d-95d88d7f2f56",
   "metadata": {},
   "outputs": [],
   "source": [
    "#Summarizing Data \n",
    "#Age"
   ]
  },
  {
   "cell_type": "code",
   "execution_count": 89,
   "id": "617f4f08-eb40-40fa-b086-7b9c69a6b3ad",
   "metadata": {},
   "outputs": [
    {
     "name": "stdout",
     "output_type": "stream",
     "text": [
      "Correlation Matrix:\n",
      "      Age\n",
      "Age  1.0\n"
     ]
    }
   ],
   "source": [
    "corr_matrix = df[['Age']].corr()\n",
    "\n",
    "# Print correlation matrix\n",
    "print(\"Correlation Matrix:\\n\", corr_matrix)"
   ]
  },
  {
   "cell_type": "code",
   "execution_count": 90,
   "id": "3c0e69dd-54e0-4683-b2b9-7f5fe0ecdedc",
   "metadata": {},
   "outputs": [
    {
     "name": "stdout",
     "output_type": "stream",
     "text": [
      "Age\n",
      "18    30\n",
      "19    33\n",
      "20    26\n",
      "21    28\n",
      "22    33\n",
      "23    29\n",
      "24    38\n",
      "25    22\n",
      "Name: count, dtype: int64\n"
     ]
    },
    {
     "data": {
      "image/png": "[encoded data removed]",
      "text/plain": [
       "<Figure size 800x500 with 1 Axes>"
      ]
     },
     "metadata": {},
     "output_type": "display_data"
    }
   ],
   "source": [
    "\n",
    "age_groups = df['Age'].value_counts().sort_index()\n",
    "print(age_groups)\n",
    "age_groups.plot(kind='bar', figsize=(8, 5), color='red', edgecolor='purple')\n",
    "plt.title(\"Number of Users by Age\")\n",
    "plt.xlabel(\"Age\")\n",
    "plt.ylabel(\"Number of Users\")\n",
    "plt.xticks(rotation=0)\n",
    "plt.show()\n"
   ]
  },
  {
   "cell_type": "code",
   "execution_count": 93,
   "id": "7c2e45c1-61ae-470e-b400-8f3157415cc3",
   "metadata": {},
   "outputs": [
    {
     "name": "stdout",
     "output_type": "stream",
     "text": [
      "Primary_App  Bumble  Hinge  OkCupid  Tinder\n",
      "Age                                        \n",
      "18                7      6        8       9\n",
      "19                7      7       12       7\n",
      "20                4     12        7       3\n",
      "21               12      7        5       4\n",
      "22                7      9        8       9\n",
      "23                2      9       12       6\n",
      "24               11      9        9       9\n",
      "25                5      6        6       5\n"
     ]
    }
   ],
   "source": [
    "#pivot table\n",
    "age_pivot = df.pivot_table(index='Age', columns='Primary_App', aggfunc='size', fill_value=0)\n",
    "print(age_pivot)\n"
   ]
  },
  {
   "cell_type": "code",
   "execution_count": 86,
   "id": "3749c95c-631b-4326-ab58-258ff1d05ea6",
   "metadata": {},
   "outputs": [
    {
     "data": {
      "image/png": "[encoded data removed]",
      "text/plain": [
       "<Figure size 1000x600 with 1 Axes>"
      ]
     },
     "metadata": {},
     "output_type": "display_data"
    }
   ],
   "source": [
    "#gender\n",
    "gender_groups = df['Gender'].value_counts()\n",
    "plt.figure(figsize=(10, 6))\n",
    "plt.pie(gender_groups, labels=gender_groups.index, autopct='%1.1f%%', colors=['green', 'yellow', 'gray'], startangle=90)\n",
    "plt.title(\"Gender Distribution\")\n",
    "plt.show()\n"
   ]
  },
  {
   "cell_type": "code",
   "execution_count": 94,
   "id": "7d2bca71-bb5d-495d-8574-16e98d51650b",
   "metadata": {},
   "outputs": [
    {
     "name": "stdout",
     "output_type": "stream",
     "text": [
      "Primary_App  Bumble  Hinge  OkCupid  Tinder\n",
      "Gender                                     \n",
      "Female           22     19       21      15\n",
      "Male             19     21       27      17\n",
      "Non-binary       14     25       19      20\n"
     ]
    },
    {
     "data": {
      "image/png": "[encoded data removed]",
      "text/plain": [
       "<Figure size 1000x600 with 1 Axes>"
      ]
     },
     "metadata": {},
     "output_type": "display_data"
    }
   ],
   "source": [
    "#dating app usage by gender\n",
    "#Apps prefers be\n",
    "primary_app_gender_preference = df.pivot_table(index='Gender', columns='Primary_App', aggfunc='size', fill_value=0)\n",
    "print(primary_app_gender_preference)\n",
    "primary_app_gender_preference.plot(kind='bar', stacked=True, figsize=(10, 6))\n",
    "plt.title(\"Dating App Preferences by Gender\")\n",
    "plt.xlabel(\"Gender\")\n",
    "plt.ylabel(\"Count\")\n",
    "plt.legend(title=\"Primary App\")\n",
    "plt.show()"
   ]
  },
  {
   "cell_type": "code",
   "execution_count": 97,
   "id": "9f00ed3e-c985-4568-821d-78ef2306d1d1",
   "metadata": {},
   "outputs": [
    {
     "ename": "SyntaxError",
     "evalue": "positional argument follows keyword argument (1455236817.py, line 5)",
     "output_type": "error",
     "traceback": [
      "\u001b[1;36m  Cell \u001b[1;32mIn[97], line 5\u001b[1;36m\u001b[0m\n\u001b[1;33m    location_summary.plot(kind='bar', figsize=(10, 6), color='cornflowerblue','red', edgecolor='black', alpha=0.8)\u001b[0m\n\u001b[1;37m                                                                                                                 ^\u001b[0m\n\u001b[1;31mSyntaxError\u001b[0m\u001b[1;31m:\u001b[0m positional argument follows keyword argument\n"
     ]
    }
   ],
   "source": [
    "#Location\n",
    "location_summary = df.groupby('Location')['User_ID'].count()\n",
    "print(location_summary)\n",
    "\n",
    "location_summary.plot(kind='bar', figsize=(10, 6), color='cornflowerblue', edgecolor='black', alpha=0.8)\n",
    "plt.title('User Distribution by Location', fontsize=14)\n",
    "plt.xlabel('Location', fontsize=12)\n",
    "plt.ylabel('Number of Users', fontsize=12)\n",
    "plt.xticks(rotation=45, ha='right')  # Rotate labels for readability\n",
    "plt.grid(axis='y', linestyle='--', alpha=0.7)\n",
    "plt.tight_layout()\n",
    "plt.show()"
   ]
  },
  {
   "cell_type": "code",
   "execution_count": null,
   "id": "25d54f35-6bc1-4d03-b576-b636f8f0eb15",
   "metadata": {},
   "outputs": [],
   "source": []
  }
 ],
 "metadata": {
  "kernelspec": {
   "display_name": "Python 3 (ipykernel)",
   "language": "python",
   "name": "python3"
  },
  "language_info": {
   "codemirror_mode": {
    "name": "ipython",
    "version": 3
   },
   "file_extension": ".py",
   "mimetype": "text/x-python",
   "name": "python",
   "nbconvert_exporter": "python",
   "pygments_lexer": "ipython3",
   "version": "3.12.8"
  }
 },
 "nbformat": 4,
 "nbformat_minor": 5
}
